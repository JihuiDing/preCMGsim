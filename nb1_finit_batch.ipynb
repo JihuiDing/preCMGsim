{
 "cells": [
  {
   "cell_type": "markdown",
   "metadata": {},
   "source": [
    "# extract finit files from simulation cases"
   ]
  },
  {
   "cell_type": "code",
   "execution_count": 2,
   "metadata": {},
   "outputs": [
    {
     "name": "stdout",
     "output_type": "stream",
     "text": [
      "Total FINIT files copied: 6\n",
      "finite_file_names = [\n",
      "    'JD_BASECASE_1.FINIT',\n",
      "    'JD_BASECASE_2.FINIT',\n",
      "    'JD_BASECASE_10.FINIT',\n",
      "    'JD_BASECASE_25.FINIT',\n",
      "    'JD_BASECASE_72.FINIT',\n",
      "    'JD_BASECASE_110.FINIT',\n",
      "]\n"
     ]
    }
   ],
   "source": [
    "from pathlib import Path\n",
    "import shutil\n",
    "import re\n",
    "\n",
    "src_root = Path('data/sim_cases')\n",
    "dst_root = Path('data/finit_files')\n",
    "\n",
    "# Create destination directory if it doesn't exist\n",
    "dst_root.mkdir(parents=True, exist_ok=True)\n",
    "\n",
    "finit_file_names = []\n",
    "\n",
    "# Iterate through each simulation case folder\n",
    "for case_path in src_root.iterdir():\n",
    "    if case_path.is_dir():\n",
    "        for src_file in case_path.iterdir():\n",
    "            if src_file.is_file() and src_file.suffix.upper() == '.FINIT':\n",
    "                dst_file = dst_root / src_file.name\n",
    "                shutil.copy2(src_file, dst_file)\n",
    "                finit_file_names.append(src_file.name)\n",
    "\n",
    "# Function to extract the trailing number\n",
    "def extract_number(filename):\n",
    "    match = re.search(r'(\\d+)(?=\\.FINIT$)', filename.upper())\n",
    "    return int(match.group(1)) if match else float('inf')\n",
    "\n",
    "# Sort numerically by extracted number\n",
    "finit_file_names = sorted(finit_file_names, key=extract_number)\n",
    "\n",
    "# Print \n",
    "print(f\"Total FINIT files copied: {len(finit_file_names)}\")\n",
    "print(\"finite_file_names = [\")\n",
    "for fname in finit_file_names:\n",
    "    print(f\"    '{fname}',\")\n",
    "print(\"]\")\n"
   ]
  },
  {
   "cell_type": "markdown",
   "metadata": {},
   "source": [
    "# extract finit file names from its folder"
   ]
  },
  {
   "cell_type": "code",
   "execution_count": 3,
   "metadata": {},
   "outputs": [
    {
     "name": "stdout",
     "output_type": "stream",
     "text": [
      "finite_file_names = [\n",
      "    'JD_BASECASE_1.FINIT',\n",
      "    'JD_BASECASE_2.FINIT',\n",
      "    'JD_BASECASE_10.FINIT',\n",
      "    'JD_BASECASE_25.FINIT',\n",
      "    'JD_BASECASE_72.FINIT',\n",
      "    'JD_BASECASE_110.FINIT',\n",
      "    '.DS_Store',\n",
      "]\n"
     ]
    }
   ],
   "source": [
    "from pathlib import Path\n",
    "import re\n",
    "\n",
    "# Folder containing the .FINIT files\n",
    "folder = Path(\"data/finit_files\")\n",
    "\n",
    "# Collect all file names (just the name, not full path)\n",
    "finit_file_names = [f.name for f in folder.iterdir() if f.is_file()]\n",
    "\n",
    "# Function to extract number inside filename\n",
    "def extract_number(filename):\n",
    "    match = re.search(r'(\\d+)(?=\\.FINIT$)', filename.upper())\n",
    "    return int(match.group(1)) if match else float('inf')\n",
    "\n",
    "# Sort numerically\n",
    "finit_file_names = sorted(finit_file_names, key=extract_number)\n",
    "\n",
    "# Print in the desired format\n",
    "print(\"finite_file_names = [\")\n",
    "for fname in finit_file_names:\n",
    "    print(f\"    '{fname}',\")\n",
    "print(\"]\")\n"
   ]
  },
  {
   "cell_type": "markdown",
   "metadata": {},
   "source": [
    "# extract properties"
   ]
  },
  {
   "cell_type": "code",
   "execution_count": null,
   "metadata": {},
   "outputs": [
    {
     "name": "stdout",
     "output_type": "stream",
     "text": [
      "\n",
      "============================================================\n",
      "COMPRESSED PORO SUMMARY\n",
      "============================================================\n",
      "Compressed 989,001 values into 54434 lines\n",
      "Compression ratio: 18.2:1\n",
      "Total cells: 989,001\n",
      "PORO - Mean: 0.083393\n",
      "PORO - Min: 0.000000\n",
      "PORO - Max: 0.396792\n",
      "Saved compressed PORO data to: results/properties/JD_BASECASE_38_PORO.dat\n",
      "\n",
      "============================================================\n",
      "COMPRESSED PERMX SUMMARY\n",
      "============================================================\n",
      "Compressed 989,001 values into 39151 lines\n",
      "Compression ratio: 25.3:1\n",
      "Total cells: 989,001\n",
      "PERMX - Mean: 86.587621\n",
      "PERMX - Min: 0.000000\n",
      "PERMX - Max: 5000.000000\n",
      "Saved compressed PERMX data to: results/properties/JD_BASECASE_38_PERMX.dat\n"
     ]
    }
   ],
   "source": [
    "from pathlib import Path\n",
    "from extract_properties_from_finit import extract_properties_from_finit\n",
    "from generate_full_properties import generate_full_properties\n",
    "from CMG_format_compress import CMG_format_compress\n",
    "\n",
    "finit_dir = 'data/finit_files'\n",
    "save_dir = 'results/properties'\n",
    "\n",
    "finit_dir = Path(finit_dir)\n",
    "save_dir = Path(save_dir)\n",
    "save_dir.mkdir(exist_ok=True)\n",
    "\n",
    "for finit_file_name in finit_file_names:\n",
    "    finit_file_path = finit_dir / finit_file_name\n",
    "    \n",
    "    # STEP 1: Extract properties from FINIT file for active cells only\n",
    "    extracted_property_dict = extract_properties_from_finit(\n",
    "        finit_file_path = finit_file_path,\n",
    "        keywords = ['PORO', 'PERMX', 'ACTID'],\n",
    "        is_save = False,\n",
    "        save_dir = save_dir,\n",
    "        save_name = finit_file_name.split('.')[0],\n",
    "        show_summary = False\n",
    "    )\n",
    "\n",
    "    # STEP 2: Generate full properties for all cells (filled inactive cells with zeros)\n",
    "    full_property_dict = generate_full_properties(\n",
    "        property_dict = extracted_property_dict,\n",
    "        property_list = ['PORO', 'PERMX'], \n",
    "        total_cells = 989001,\n",
    "        is_save = False,\n",
    "        save_dir = save_dir,\n",
    "        save_name = finit_file_name.split('.')[0],\n",
    "        # save_name = finit_file_name.split('.')[0]+'_jreversed',\n",
    "        show_summary = False,\n",
    "        reverse_j = True,\n",
    "        grid_shape = (107, 117, 79),\n",
    "        )\n",
    "\n",
    "\n",
    "    # STEP 3: Compress full properties to CMG format (repeated values as N*value)\n",
    "    for key in ['PORO', 'PERMX']:\n",
    "        CMG_format_compress(\n",
    "            array = full_property_dict[key], \n",
    "            keyword = key, \n",
    "            max_line_length = 80,\n",
    "            show_summary = False,\n",
    "            save_dir = save_dir,\n",
    "            save_name = finit_file_name.split('.')[0]\n",
    "            # save_name = finit_file_name.split('.')[0]+'_jreversed'\n",
    "        )\n"
   ]
  },
  {
   "cell_type": "markdown",
   "metadata": {},
   "source": [
    "# collect property file names to be used for LSH sampling"
   ]
  },
  {
   "cell_type": "code",
   "execution_count": null,
   "metadata": {},
   "outputs": [],
   "source": [
    "import os\n",
    "from pathlib import Path\n",
    "import numpy as np\n",
    "import re\n",
    "\n",
    "\"\"\"\n",
    "Extract file names from the results/properties folder.\n",
    "Returns a list of file names (excluding hidden files like .DS_Store),\n",
    "sorted numerically by the number inside the file name.\n",
    "\"\"\"\n",
    "\n",
    "# Define the path to the properties folder\n",
    "properties_path = \"results/properties\"\n",
    "\n",
    "# Check if the directory exists\n",
    "if not os.path.exists(properties_path):\n",
    "    print(f\"Error: Directory '{properties_path}' does not exist.\")\n",
    "\n",
    "# Use pathlib for better cross-platform compatibility\n",
    "properties_dir = Path(properties_path)\n",
    "\n",
    "# Extract number from filename helper\n",
    "def extract_number(filename):\n",
    "    match = re.search(r\"(\\d+)\", filename)\n",
    "    return int(match.group(1)) if match else float('inf')\n",
    "\n",
    "# Get all files, excluding hidden files\n",
    "property_file_names = [\n",
    "    file_path.name for file_path in properties_dir.iterdir()\n",
    "    if file_path.is_file() and not file_path.name.startswith('.')\n",
    "]\n",
    "\n",
    "# Sort numerically by the number inside the filename\n",
    "property_file_names.sort(key=extract_number)\n",
    "\n",
    "# Save the list as .npy\n",
    "np.save('property_file_names.npy', property_file_names)\n",
    "\n",
    "print(\"Saved property file names in order:\")\n",
    "for fname in property_file_names:\n",
    "    print(fname)\n"
   ]
  },
  {
   "cell_type": "code",
   "execution_count": 6,
   "metadata": {},
   "outputs": [
    {
     "data": {
      "text/plain": [
       "['JD_BASECASE_38_jreversed_PORO.dat',\n",
       " 'JD_BASECASE_38_PORO.dat',\n",
       " 'JD_BASECASE_38_jreversed_PERMX.dat',\n",
       " 'JD_BASECASE_38_jreversed_PORO.npy',\n",
       " 'JD_BASECASE_38_PERMX.dat',\n",
       " 'JD_BASECASE_38_jreversed_PERMX.npy']"
      ]
     },
     "execution_count": 6,
     "metadata": {},
     "output_type": "execute_result"
    }
   ],
   "source": [
    "property_file_names"
   ]
  }
 ],
 "metadata": {
  "kernelspec": {
   "display_name": "base",
   "language": "python",
   "name": "python3"
  },
  "language_info": {
   "codemirror_mode": {
    "name": "ipython",
    "version": 3
   },
   "file_extension": ".py",
   "mimetype": "text/x-python",
   "name": "python",
   "nbconvert_exporter": "python",
   "pygments_lexer": "ipython3",
   "version": "3.12.4"
  }
 },
 "nbformat": 4,
 "nbformat_minor": 2
}
